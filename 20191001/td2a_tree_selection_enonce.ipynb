{
 "cells": [
  {
   "cell_type": "markdown",
   "metadata": {},
   "source": [
    "# 2A.ml - Réduction d'une forêt aléatoire - énoncé\n",
    "\n",
    "Le modèle Lasso permet de sélectionner des variables, une forêt aléatoire produit une prédiction comme étant la moyenne d'arbres de régression. Et si on mélangeait les deux ?"
   ]
  },
  {
   "cell_type": "code",
   "execution_count": 137,
   "metadata": {},
   "outputs": [
    {
     "data": {
      "text/html": [
       "<div id=\"my_id_menu_nb\">run previous cell, wait for 2 seconds</div>\n",
       "<script>\n",
       "function repeat_indent_string(n){\n",
       "    var a = \"\" ;\n",
       "    for ( ; n > 0 ; --n)\n",
       "        a += \"    \";\n",
       "    return a;\n",
       "}\n",
       "// look up into all sections and builds an automated menu //\n",
       "var update_menu_string = function(begin, lfirst, llast, sformat, send, keep_item, begin_format, end_format) {\n",
       "    var anchors = document.getElementsByClassName(\"section\");\n",
       "    if (anchors.length == 0) {\n",
       "        anchors = document.getElementsByClassName(\"text_cell_render rendered_html\");\n",
       "    }\n",
       "    var i,t;\n",
       "    var text_menu = begin;\n",
       "    var text_memo = \"<pre>\\nlength:\" + anchors.length + \"\\n\";\n",
       "    var ind = \"\";\n",
       "    var memo_level = 1;\n",
       "    var href;\n",
       "    var tags = [];\n",
       "    var main_item = 0;\n",
       "    var format_open = 0;\n",
       "    for (i = 0; i <= llast; i++)\n",
       "        tags.push(\"h\" + i);\n",
       "\n",
       "    for (i = 0; i < anchors.length; i++) {\n",
       "        text_memo += \"**\" + anchors[i].id + \"--\\n\";\n",
       "\n",
       "        var child = null;\n",
       "        for(t = 0; t < tags.length; t++) {\n",
       "            var r = anchors[i].getElementsByTagName(tags[t]);\n",
       "            if (r.length > 0) {\n",
       "child = r[0];\n",
       "break;\n",
       "            }\n",
       "        }\n",
       "        if (child == null) {\n",
       "            text_memo += \"null\\n\";\n",
       "            continue;\n",
       "        }\n",
       "        if (anchors[i].hasAttribute(\"id\")) {\n",
       "            // when converted in RST\n",
       "            href = anchors[i].id;\n",
       "            text_memo += \"#1-\" + href;\n",
       "            // passer à child suivant (le chercher)\n",
       "        }\n",
       "        else if (child.hasAttribute(\"id\")) {\n",
       "            // in a notebook\n",
       "            href = child.id;\n",
       "            text_memo += \"#2-\" + href;\n",
       "        }\n",
       "        else {\n",
       "            text_memo += \"#3-\" + \"*\" + \"\\n\";\n",
       "            continue;\n",
       "        }\n",
       "        var title = child.textContent;\n",
       "        var level = parseInt(child.tagName.substring(1,2));\n",
       "\n",
       "        text_memo += \"--\" + level + \"?\" + lfirst + \"--\" + title + \"\\n\";\n",
       "\n",
       "        if ((level < lfirst) || (level > llast)) {\n",
       "            continue ;\n",
       "        }\n",
       "        if (title.endsWith('¶')) {\n",
       "            title = title.substring(0,title.length-1).replace(\"<\", \"&lt;\")\n",
       "         .replace(\">\", \"&gt;\").replace(\"&\", \"&amp;\");\n",
       "        }\n",
       "        if (title.length == 0) {\n",
       "            continue;\n",
       "        }\n",
       "\n",
       "        while (level < memo_level) {\n",
       "            text_menu += end_format + \"</ul>\\n\";\n",
       "            format_open -= 1;\n",
       "            memo_level -= 1;\n",
       "        }\n",
       "        if (level == lfirst) {\n",
       "            main_item += 1;\n",
       "        }\n",
       "        if (keep_item != -1 && main_item != keep_item + 1) {\n",
       "            // alert(main_item + \" - \" + level + \" - \" + keep_item);\n",
       "            continue;\n",
       "        }\n",
       "        while (level > memo_level) {\n",
       "            text_menu += \"<ul>\\n\";\n",
       "            memo_level += 1;\n",
       "        }\n",
       "        text_menu += repeat_indent_string(level-2);\n",
       "        text_menu += begin_format + sformat.replace(\"__HREF__\", href).replace(\"__TITLE__\", title);\n",
       "        format_open += 1;\n",
       "    }\n",
       "    while (1 < memo_level) {\n",
       "        text_menu += end_format + \"</ul>\\n\";\n",
       "        memo_level -= 1;\n",
       "        format_open -= 1;\n",
       "    }\n",
       "    text_menu += send;\n",
       "    //text_menu += \"\\n\" + text_memo;\n",
       "\n",
       "    while (format_open > 0) {\n",
       "        text_menu += end_format;\n",
       "        format_open -= 1;\n",
       "    }\n",
       "    return text_menu;\n",
       "};\n",
       "var update_menu = function() {\n",
       "    var sbegin = \"\";\n",
       "    var sformat = '<a href=\"#__HREF__\">__TITLE__</a>';\n",
       "    var send = \"\";\n",
       "    var begin_format = '<li>';\n",
       "    var end_format = '</li>';\n",
       "    var keep_item = -1;\n",
       "    var text_menu = update_menu_string(sbegin, 2, 4, sformat, send, keep_item,\n",
       "       begin_format, end_format);\n",
       "    var menu = document.getElementById(\"my_id_menu_nb\");\n",
       "    menu.innerHTML=text_menu;\n",
       "};\n",
       "window.setTimeout(update_menu,2000);\n",
       "            </script>"
      ],
      "text/plain": [
       "<IPython.core.display.HTML object>"
      ]
     },
     "execution_count": 137,
     "metadata": {},
     "output_type": "execute_result"
    }
   ],
   "source": [
    "from jyquickhelper import add_notebook_menu\n",
    "add_notebook_menu()"
   ]
  },
  {
   "cell_type": "code",
   "execution_count": 138,
   "metadata": {},
   "outputs": [],
   "source": [
    "%matplotlib inline"
   ]
  },
  {
   "cell_type": "markdown",
   "metadata": {},
   "source": [
    "## Datasets\n",
    "\n",
    "Comme il faut toujours des données, on prend ce jeu [Boston](https://scikit-learn.org/stable/modules/generated/sklearn.datasets.load_boston.html)."
   ]
  },
  {
   "cell_type": "code",
   "execution_count": 139,
   "metadata": {},
   "outputs": [],
   "source": [
    "from sklearn.datasets import load_boston\n",
    "data = load_boston()\n",
    "X, y = data.data, data.target"
   ]
  },
  {
   "cell_type": "code",
   "execution_count": 140,
   "metadata": {},
   "outputs": [],
   "source": [
    "from sklearn.model_selection import train_test_split\n",
    "X_train, X_test, y_train, y_test = train_test_split(X, y)"
   ]
  },
  {
   "cell_type": "code",
   "execution_count": 141,
   "metadata": {},
   "outputs": [
    {
     "data": {
      "text/plain": [
       "array(['CRIM', 'ZN', 'INDUS', 'CHAS', 'NOX', 'RM', 'AGE', 'DIS', 'RAD',\n",
       "       'TAX', 'PTRATIO', 'B', 'LSTAT'], dtype='<U7')"
      ]
     },
     "execution_count": 141,
     "metadata": {},
     "output_type": "execute_result"
    }
   ],
   "source": [
    "data.feature_names"
   ]
  },
  {
   "cell_type": "markdown",
   "metadata": {},
   "source": [
    "## Q1 : caler une forêt aléatoire"
   ]
  },
  {
   "cell_type": "code",
   "execution_count": 142,
   "metadata": {},
   "outputs": [],
   "source": [
    "from sklearn.ensemble import RandomForestRegressor\n",
    "from sklearn.tree import DecisionTreeRegressor"
   ]
  },
  {
   "cell_type": "code",
   "execution_count": 143,
   "metadata": {
    "scrolled": true
   },
   "outputs": [
    {
     "data": {
      "text/plain": [
       "RandomForestRegressor(bootstrap=True, criterion='mse', max_depth=None,\n",
       "                      max_features='auto', max_leaf_nodes=None,\n",
       "                      min_impurity_decrease=0.0, min_impurity_split=None,\n",
       "                      min_samples_leaf=1, min_samples_split=2,\n",
       "                      min_weight_fraction_leaf=0.0, n_estimators=20,\n",
       "                      n_jobs=None, oob_score=False, random_state=None,\n",
       "                      verbose=0, warm_start=False)"
      ]
     },
     "execution_count": 143,
     "metadata": {},
     "output_type": "execute_result"
    }
   ],
   "source": [
    "model = RandomForestRegressor(n_estimators=20)\n",
    "model.fit(X_train, y_train)\n",
    "\n",
    "# dt = DecisionTreeRegressor()\n",
    "# dt.fit(X_train, y_train)\n",
    "\n"
   ]
  },
  {
   "cell_type": "code",
   "execution_count": null,
   "metadata": {},
   "outputs": [],
   "source": []
  },
  {
   "cell_type": "code",
   "execution_count": 144,
   "metadata": {
    "scrolled": true
   },
   "outputs": [
    {
     "data": {
      "text/plain": [
       "[DecisionTreeRegressor(criterion='mse', max_depth=None, max_features='auto',\n",
       "                       max_leaf_nodes=None, min_impurity_decrease=0.0,\n",
       "                       min_impurity_split=None, min_samples_leaf=1,\n",
       "                       min_samples_split=2, min_weight_fraction_leaf=0.0,\n",
       "                       presort=False, random_state=2084138045, splitter='best'),\n",
       " DecisionTreeRegressor(criterion='mse', max_depth=None, max_features='auto',\n",
       "                       max_leaf_nodes=None, min_impurity_decrease=0.0,\n",
       "                       min_impurity_split=None, min_samples_leaf=1,\n",
       "                       min_samples_split=2, min_weight_fraction_leaf=0.0,\n",
       "                       presort=False, random_state=214415392, splitter='best'),\n",
       " DecisionTreeRegressor(criterion='mse', max_depth=None, max_features='auto',\n",
       "                       max_leaf_nodes=None, min_impurity_decrease=0.0,\n",
       "                       min_impurity_split=None, min_samples_leaf=1,\n",
       "                       min_samples_split=2, min_weight_fraction_leaf=0.0,\n",
       "                       presort=False, random_state=234520308, splitter='best'),\n",
       " DecisionTreeRegressor(criterion='mse', max_depth=None, max_features='auto',\n",
       "                       max_leaf_nodes=None, min_impurity_decrease=0.0,\n",
       "                       min_impurity_split=None, min_samples_leaf=1,\n",
       "                       min_samples_split=2, min_weight_fraction_leaf=0.0,\n",
       "                       presort=False, random_state=1021826029, splitter='best'),\n",
       " DecisionTreeRegressor(criterion='mse', max_depth=None, max_features='auto',\n",
       "                       max_leaf_nodes=None, min_impurity_decrease=0.0,\n",
       "                       min_impurity_split=None, min_samples_leaf=1,\n",
       "                       min_samples_split=2, min_weight_fraction_leaf=0.0,\n",
       "                       presort=False, random_state=386045647, splitter='best'),\n",
       " DecisionTreeRegressor(criterion='mse', max_depth=None, max_features='auto',\n",
       "                       max_leaf_nodes=None, min_impurity_decrease=0.0,\n",
       "                       min_impurity_split=None, min_samples_leaf=1,\n",
       "                       min_samples_split=2, min_weight_fraction_leaf=0.0,\n",
       "                       presort=False, random_state=278465543, splitter='best'),\n",
       " DecisionTreeRegressor(criterion='mse', max_depth=None, max_features='auto',\n",
       "                       max_leaf_nodes=None, min_impurity_decrease=0.0,\n",
       "                       min_impurity_split=None, min_samples_leaf=1,\n",
       "                       min_samples_split=2, min_weight_fraction_leaf=0.0,\n",
       "                       presort=False, random_state=1053880238, splitter='best'),\n",
       " DecisionTreeRegressor(criterion='mse', max_depth=None, max_features='auto',\n",
       "                       max_leaf_nodes=None, min_impurity_decrease=0.0,\n",
       "                       min_impurity_split=None, min_samples_leaf=1,\n",
       "                       min_samples_split=2, min_weight_fraction_leaf=0.0,\n",
       "                       presort=False, random_state=1579588862, splitter='best'),\n",
       " DecisionTreeRegressor(criterion='mse', max_depth=None, max_features='auto',\n",
       "                       max_leaf_nodes=None, min_impurity_decrease=0.0,\n",
       "                       min_impurity_split=None, min_samples_leaf=1,\n",
       "                       min_samples_split=2, min_weight_fraction_leaf=0.0,\n",
       "                       presort=False, random_state=1756921022, splitter='best'),\n",
       " DecisionTreeRegressor(criterion='mse', max_depth=None, max_features='auto',\n",
       "                       max_leaf_nodes=None, min_impurity_decrease=0.0,\n",
       "                       min_impurity_split=None, min_samples_leaf=1,\n",
       "                       min_samples_split=2, min_weight_fraction_leaf=0.0,\n",
       "                       presort=False, random_state=1818046795, splitter='best'),\n",
       " DecisionTreeRegressor(criterion='mse', max_depth=None, max_features='auto',\n",
       "                       max_leaf_nodes=None, min_impurity_decrease=0.0,\n",
       "                       min_impurity_split=None, min_samples_leaf=1,\n",
       "                       min_samples_split=2, min_weight_fraction_leaf=0.0,\n",
       "                       presort=False, random_state=1098138867, splitter='best'),\n",
       " DecisionTreeRegressor(criterion='mse', max_depth=None, max_features='auto',\n",
       "                       max_leaf_nodes=None, min_impurity_decrease=0.0,\n",
       "                       min_impurity_split=None, min_samples_leaf=1,\n",
       "                       min_samples_split=2, min_weight_fraction_leaf=0.0,\n",
       "                       presort=False, random_state=2113304924, splitter='best'),\n",
       " DecisionTreeRegressor(criterion='mse', max_depth=None, max_features='auto',\n",
       "                       max_leaf_nodes=None, min_impurity_decrease=0.0,\n",
       "                       min_impurity_split=None, min_samples_leaf=1,\n",
       "                       min_samples_split=2, min_weight_fraction_leaf=0.0,\n",
       "                       presort=False, random_state=1580091125, splitter='best'),\n",
       " DecisionTreeRegressor(criterion='mse', max_depth=None, max_features='auto',\n",
       "                       max_leaf_nodes=None, min_impurity_decrease=0.0,\n",
       "                       min_impurity_split=None, min_samples_leaf=1,\n",
       "                       min_samples_split=2, min_weight_fraction_leaf=0.0,\n",
       "                       presort=False, random_state=1125009718, splitter='best'),\n",
       " DecisionTreeRegressor(criterion='mse', max_depth=None, max_features='auto',\n",
       "                       max_leaf_nodes=None, min_impurity_decrease=0.0,\n",
       "                       min_impurity_split=None, min_samples_leaf=1,\n",
       "                       min_samples_split=2, min_weight_fraction_leaf=0.0,\n",
       "                       presort=False, random_state=896770029, splitter='best'),\n",
       " DecisionTreeRegressor(criterion='mse', max_depth=None, max_features='auto',\n",
       "                       max_leaf_nodes=None, min_impurity_decrease=0.0,\n",
       "                       min_impurity_split=None, min_samples_leaf=1,\n",
       "                       min_samples_split=2, min_weight_fraction_leaf=0.0,\n",
       "                       presort=False, random_state=1908742038, splitter='best'),\n",
       " DecisionTreeRegressor(criterion='mse', max_depth=None, max_features='auto',\n",
       "                       max_leaf_nodes=None, min_impurity_decrease=0.0,\n",
       "                       min_impurity_split=None, min_samples_leaf=1,\n",
       "                       min_samples_split=2, min_weight_fraction_leaf=0.0,\n",
       "                       presort=False, random_state=1528066470, splitter='best'),\n",
       " DecisionTreeRegressor(criterion='mse', max_depth=None, max_features='auto',\n",
       "                       max_leaf_nodes=None, min_impurity_decrease=0.0,\n",
       "                       min_impurity_split=None, min_samples_leaf=1,\n",
       "                       min_samples_split=2, min_weight_fraction_leaf=0.0,\n",
       "                       presort=False, random_state=1018333969, splitter='best'),\n",
       " DecisionTreeRegressor(criterion='mse', max_depth=None, max_features='auto',\n",
       "                       max_leaf_nodes=None, min_impurity_decrease=0.0,\n",
       "                       min_impurity_split=None, min_samples_leaf=1,\n",
       "                       min_samples_split=2, min_weight_fraction_leaf=0.0,\n",
       "                       presort=False, random_state=2049563647, splitter='best'),\n",
       " DecisionTreeRegressor(criterion='mse', max_depth=None, max_features='auto',\n",
       "                       max_leaf_nodes=None, min_impurity_decrease=0.0,\n",
       "                       min_impurity_split=None, min_samples_leaf=1,\n",
       "                       min_samples_split=2, min_weight_fraction_leaf=0.0,\n",
       "                       presort=False, random_state=1191487649, splitter='best')]"
      ]
     },
     "execution_count": 144,
     "metadata": {},
     "output_type": "execute_result"
    }
   ],
   "source": [
    "model.estimators_"
   ]
  },
  {
   "cell_type": "code",
   "execution_count": 145,
   "metadata": {},
   "outputs": [
    {
     "data": {
      "text/plain": [
       "20"
      ]
     },
     "execution_count": 145,
     "metadata": {},
     "output_type": "execute_result"
    }
   ],
   "source": [
    "len(model.estimators_)"
   ]
  },
  {
   "cell_type": "markdown",
   "metadata": {},
   "source": [
    "## Q2 : calculer soi-même la moyenne des prédictions des arbres de la forêt aléatoire\n",
    "\n",
    "C'est peut-être inutile mais ça permet de s'assurer que la prédiction d'une forêt aléatoire est bien issue de la moyenne des prédictions d'un ensemble d'arbre de régression."
   ]
  },
  {
   "cell_type": "code",
   "execution_count": 146,
   "metadata": {},
   "outputs": [],
   "source": [
    "pred_rf = model.predict(X_test)"
   ]
  },
  {
   "cell_type": "code",
   "execution_count": 147,
   "metadata": {
    "scrolled": true
   },
   "outputs": [
    {
     "name": "stdout",
     "output_type": "stream",
     "text": [
      "(127, 13)\n"
     ]
    }
   ],
   "source": [
    "print(X_test.shape)"
   ]
  },
  {
   "cell_type": "code",
   "execution_count": 148,
   "metadata": {},
   "outputs": [
    {
     "name": "stdout",
     "output_type": "stream",
     "text": [
      "(127,)\n"
     ]
    }
   ],
   "source": [
    "print(pred_rf.shape)"
   ]
  },
  {
   "cell_type": "code",
   "execution_count": 149,
   "metadata": {
    "scrolled": true
   },
   "outputs": [
    {
     "data": {
      "text/plain": [
       "array([33.575, 19.93 , 47.07 , 17.165, 12.9  , 22.725, 21.18 , 20.5  ,\n",
       "       23.83 , 19.53 , 19.35 , 15.265, 23.36 , 34.745, 16.065, 29.92 ,\n",
       "       29.96 , 20.84 , 19.42 , 14.245, 19.19 , 18.815, 23.855, 26.42 ,\n",
       "       33.755, 26.35 , 13.895, 23.575, 44.77 , 21.285, 23.505, 23.685,\n",
       "       19.365, 19.545, 22.105, 17.255, 22.12 , 19.125, 23.515, 17.42 ,\n",
       "       20.56 , 25.835,  7.75 , 26.28 , 29.47 , 19.955, 31.845, 24.445,\n",
       "       11.765, 23.975, 22.8  , 10.575, 18.235, 47.07 , 15.32 , 44.7  ,\n",
       "        9.29 , 19.195, 27.375, 13.94 , 25.505, 16.975, 21.805, 13.18 ,\n",
       "       21.21 , 34.32 , 15.705, 24.64 , 16.235, 47.935,  9.205, 27.46 ,\n",
       "       21.375,  7.355, 22.95 , 19.625, 11.16 , 34.17 , 19.19 , 24.675,\n",
       "       32.41 , 20.305, 14.955, 10.04 , 31.725, 13.49 , 18.565, 12.3  ,\n",
       "       19.615, 21.015, 22.72 , 20.65 , 13.715, 20.03 , 19.615, 26.085,\n",
       "       23.62 , 21.365, 22.365, 17.02 , 17.49 , 33.535, 34.32 , 20.39 ,\n",
       "       26.55 , 11.32 , 34.285, 23.935, 20.875, 20.17 , 10.28 , 15.04 ,\n",
       "       41.81 , 46.66 , 20.575, 30.695, 10.04 , 24.125, 14.38 , 23.01 ,\n",
       "       43.29 , 14.4  , 25.305, 11.945, 19.135, 28.56 , 17.755])"
      ]
     },
     "execution_count": 149,
     "metadata": {},
     "output_type": "execute_result"
    }
   ],
   "source": [
    "pred_rf"
   ]
  },
  {
   "cell_type": "code",
   "execution_count": 150,
   "metadata": {},
   "outputs": [],
   "source": [
    "import numpy as np\n",
    "pred_manuel = np.zeros(y_test.shape)"
   ]
  },
  {
   "cell_type": "code",
   "execution_count": 151,
   "metadata": {},
   "outputs": [],
   "source": [
    "for i, Xi in enumerate(X_test):\n",
    "    \n",
    "    #Reshape des Xi\n",
    "    Xi = Xi.reshape(1, -1)\n",
    "    \n",
    "    arbres_out_Xi = [arbre.predict(Xi) for arbre in model.estimators_]\n",
    "    pred_manuel[i] = np.mean(arbres_out_Xi)"
   ]
  },
  {
   "cell_type": "code",
   "execution_count": null,
   "metadata": {},
   "outputs": [],
   "source": []
  },
  {
   "cell_type": "code",
   "execution_count": null,
   "metadata": {},
   "outputs": [],
   "source": []
  },
  {
   "cell_type": "code",
   "execution_count": null,
   "metadata": {},
   "outputs": [],
   "source": []
  },
  {
   "cell_type": "code",
   "execution_count": null,
   "metadata": {
    "scrolled": true
   },
   "outputs": [],
   "source": []
  },
  {
   "cell_type": "code",
   "execution_count": null,
   "metadata": {},
   "outputs": [],
   "source": []
  },
  {
   "cell_type": "code",
   "execution_count": 152,
   "metadata": {},
   "outputs": [
    {
     "data": {
      "text/plain": [
       "array([33.575, 19.93 , 47.07 , 17.165, 12.9  , 22.725, 21.18 , 20.5  ,\n",
       "       23.83 , 19.53 , 19.35 , 15.265, 23.36 , 34.745, 16.065, 29.92 ,\n",
       "       29.96 , 20.84 , 19.42 , 14.245, 19.19 , 18.815, 23.855, 26.42 ,\n",
       "       33.755, 26.35 , 13.895, 23.575, 44.77 , 21.285, 23.505, 23.685,\n",
       "       19.365, 19.545, 22.105, 17.255, 22.12 , 19.125, 23.515, 17.42 ,\n",
       "       20.56 , 25.835,  7.75 , 26.28 , 29.47 , 19.955, 31.845, 24.445,\n",
       "       11.765, 23.975, 22.8  , 10.575, 18.235, 47.07 , 15.32 , 44.7  ,\n",
       "        9.29 , 19.195, 27.375, 13.94 , 25.505, 16.975, 21.805, 13.18 ,\n",
       "       21.21 , 34.32 , 15.705, 24.64 , 16.235, 47.935,  9.205, 27.46 ,\n",
       "       21.375,  7.355, 22.95 , 19.625, 11.16 , 34.17 , 19.19 , 24.675,\n",
       "       32.41 , 20.305, 14.955, 10.04 , 31.725, 13.49 , 18.565, 12.3  ,\n",
       "       19.615, 21.015, 22.72 , 20.65 , 13.715, 20.03 , 19.615, 26.085,\n",
       "       23.62 , 21.365, 22.365, 17.02 , 17.49 , 33.535, 34.32 , 20.39 ,\n",
       "       26.55 , 11.32 , 34.285, 23.935, 20.875, 20.17 , 10.28 , 15.04 ,\n",
       "       41.81 , 46.66 , 20.575, 30.695, 10.04 , 24.125, 14.38 , 23.01 ,\n",
       "       43.29 , 14.4  , 25.305, 11.945, 19.135, 28.56 , 17.755])"
      ]
     },
     "execution_count": 152,
     "metadata": {},
     "output_type": "execute_result"
    }
   ],
   "source": [
    "pred_manuel"
   ]
  },
  {
   "cell_type": "markdown",
   "metadata": {},
   "source": [
    "A priori, c'est la même chose."
   ]
  },
  {
   "cell_type": "code",
   "execution_count": 153,
   "metadata": {},
   "outputs": [
    {
     "name": "stdout",
     "output_type": "stream",
     "text": [
      "Loss RF = 9.553569291338583\n"
     ]
    }
   ],
   "source": [
    "loss_rf = np.mean((y_test - pred_rf)**2)\n",
    "print(\"Loss RF = {}\".format(loss_rf))"
   ]
  },
  {
   "cell_type": "code",
   "execution_count": 154,
   "metadata": {},
   "outputs": [
    {
     "name": "stdout",
     "output_type": "stream",
     "text": [
      "Loss manuelle = 9.553569291338583\n"
     ]
    }
   ],
   "source": [
    "loss_manuel = np.mean((y_test - pred_rf)**2)\n",
    "print(\"Loss manuelle = {}\".format(loss_manuel))"
   ]
  },
  {
   "cell_type": "code",
   "execution_count": 155,
   "metadata": {},
   "outputs": [],
   "source": [
    "from sklearn.metrics import r2_score"
   ]
  },
  {
   "cell_type": "code",
   "execution_count": 156,
   "metadata": {
    "scrolled": true
   },
   "outputs": [
    {
     "name": "stdout",
     "output_type": "stream",
     "text": [
      "R2 score random forest train = 0.9718935090220453\n",
      "R2 score random forest = 0.8822467234049356\n"
     ]
    }
   ],
   "source": [
    "print(\"R2 score random forest train = {}\".format(r2_score(y_train, model.predict(X_train))))\n",
    "print(\"R2 score random forest = {}\".format(r2_score(y_test, pred_rf)))"
   ]
  },
  {
   "cell_type": "code",
   "execution_count": null,
   "metadata": {},
   "outputs": [],
   "source": []
  },
  {
   "cell_type": "markdown",
   "metadata": {},
   "source": [
    "## Q3 : Pondérer les arbres à l'aide d'une régression linéaire\n",
    "\n",
    "La forêt aléatoire est une façon de créer de nouvelles features, 100 exactement qu'on utilise pour caler une régression linéaire. A vous de jouer."
   ]
  },
  {
   "cell_type": "code",
   "execution_count": 163,
   "metadata": {},
   "outputs": [],
   "source": [
    "def new_features(rf, X):\n",
    "    \n",
    "    X_new = np.zeros((X.shape[0], len(rf.estimators_)))\n",
    "    \n",
    "    for i, Xi in enumerate(X):\n",
    "\n",
    "        #Reshape des Xi\n",
    "        Xi = Xi.reshape(1, -1)\n",
    "\n",
    "        arbres_out_Xi = [arbre.predict(Xi) for arbre in rf.estimators_]\n",
    "    \n",
    "        X_new[i, :] = arbres_out_Xi\n",
    "    \n",
    "    return X_new\n",
    "\n",
    "\n",
    "X_train_2 = new_features(model, X_train)"
   ]
  },
  {
   "cell_type": "code",
   "execution_count": 169,
   "metadata": {
    "scrolled": true
   },
   "outputs": [
    {
     "name": "stdout",
     "output_type": "stream",
     "text": [
      "taille de X_train initial: (379, 13)\n",
      "taille de X_train_2 (après application de la foret): (379, 20)\n"
     ]
    }
   ],
   "source": [
    "print(\"taille de X_train initial: {}\".format(X_train.shape))\n",
    "print(\"taille de X_train_2 (après application de la foret): {}\".format(X_train_2.shape))"
   ]
  },
  {
   "cell_type": "code",
   "execution_count": 165,
   "metadata": {},
   "outputs": [
    {
     "data": {
      "text/plain": [
       "LinearRegression(copy_X=True, fit_intercept=True, n_jobs=None, normalize=False)"
      ]
     },
     "execution_count": 165,
     "metadata": {},
     "output_type": "execute_result"
    }
   ],
   "source": [
    "from sklearn.linear_model import LinearRegression\n",
    "\n",
    "lr = LinearRegression()\n",
    "lr.fit(X_train_2, y_train)\n"
   ]
  },
  {
   "cell_type": "code",
   "execution_count": 170,
   "metadata": {},
   "outputs": [],
   "source": [
    "X_test_2 = new_features(model, X_test)\n",
    "\n",
    "pred_new = lr.predict(X_test_2)"
   ]
  },
  {
   "cell_type": "code",
   "execution_count": 171,
   "metadata": {
    "scrolled": true
   },
   "outputs": [
    {
     "data": {
      "text/plain": [
       "array([33.27191712, 19.60241919, 47.69087883, 17.78115139, 12.27128687,\n",
       "       22.28083262, 22.06769544, 19.52368335, 24.42609438, 19.12617623,\n",
       "       19.40857102, 16.04100869, 24.5111586 , 36.23246484, 15.56369408,\n",
       "       31.575048  , 29.77430381, 21.76517779, 19.10509595, 14.11166308,\n",
       "       18.57863749, 19.3075195 , 23.71312537, 26.71927137, 33.13739908,\n",
       "       26.53431259, 13.39034797, 23.55932161, 42.86179936, 21.03299964,\n",
       "       23.27939187, 24.02676769, 20.39918828, 19.2492622 , 19.57277839,\n",
       "       16.92407016, 22.14905771, 19.01469482, 23.3621443 , 15.83303258,\n",
       "       20.49451844, 26.31588485,  6.9665726 , 25.98347666, 29.60318921,\n",
       "       19.5107925 , 32.80779616, 23.96521067, 11.27981626, 23.32246172,\n",
       "       22.27446048,  9.99386883, 18.22095816, 47.41706751, 15.09353598,\n",
       "       45.22984426,  9.43350912, 18.89264425, 27.56632335, 12.609871  ,\n",
       "       25.74894027, 16.92291211, 21.90940798, 12.44930402, 21.35307138,\n",
       "       36.39016802, 14.88146909, 24.75734412, 16.5081395 , 47.87013422,\n",
       "        8.081504  , 27.50646213, 21.7025049 ,  6.77284577, 22.86997933,\n",
       "       19.5934246 , 10.0639082 , 32.82253632, 18.63711011, 23.45482912,\n",
       "       31.35549983, 20.32073088, 14.50481709,  9.36203984, 32.53202082,\n",
       "       12.76968123, 17.48968811, 13.56175494, 19.31656644, 21.65948364,\n",
       "       21.41707439, 20.80854567, 12.48723814, 19.81924165, 20.57005504,\n",
       "       26.05062379, 23.29115368, 21.09295845, 22.53388733, 15.28755369,\n",
       "       16.85585392, 33.91443962, 35.67020383, 19.85940317, 26.44260243,\n",
       "       11.62813832, 34.94492468, 24.02884504, 20.90057593, 19.62228702,\n",
       "        9.8309756 , 14.01663758, 42.28377672, 47.11522252, 19.61529033,\n",
       "       31.30903711,  9.54419658, 24.55750938, 15.65605392, 23.28218196,\n",
       "       41.29846953, 14.29556259, 25.5140483 , 11.69954923, 19.25427229,\n",
       "       29.24142544, 16.7777351 ])"
      ]
     },
     "execution_count": 171,
     "metadata": {},
     "output_type": "execute_result"
    }
   ],
   "source": [
    "pred_new"
   ]
  },
  {
   "cell_type": "code",
   "execution_count": 173,
   "metadata": {
    "scrolled": true
   },
   "outputs": [
    {
     "name": "stdout",
     "output_type": "stream",
     "text": [
      "R2 score random forest linear regression train = 0.983116246244555\n",
      "R2 score random forest linear regression = 0.8708251972679967\n"
     ]
    }
   ],
   "source": [
    "print(\"R2 score random forest linear regression train = {}\".format(r2_score(y_train, lr.predict(X_train_2))))\n",
    "print(\"R2 score random forest linear regression = {}\".format(r2_score(y_test, pred_new)))"
   ]
  },
  {
   "cell_type": "code",
   "execution_count": 175,
   "metadata": {
    "scrolled": true
   },
   "outputs": [
    {
     "data": {
      "image/png": "[encoded data removed]",
      "text/plain": [
       "<Figure size 864x288 with 1 Axes>"
      ]
     },
     "metadata": {
      "needs_background": "light"
     },
     "output_type": "display_data"
    }
   ],
   "source": [
    "import matplotlib.pyplot as plt\n",
    "fig, ax = plt.subplots(1, 1, figsize=(12, 4))\n",
    "ax.bar(np.arange(0, len(lr.coef_)), lr.coef_)\n",
    "ax.set_title(\"Coefficients pour chaque arbre calculés avec une régression linéaire\");"
   ]
  },
  {
   "cell_type": "markdown",
   "metadata": {},
   "source": [
    "## Q4 : Que se passe-t-il si on remplace la régression linéaire par un Lasso ?\n",
    "\n",
    "Petit rappel : le [Lasso](https://scikit-learn.org/stable/modules/generated/sklearn.linear_model.Lasso.html) est une façon de sélectionner les variables."
   ]
  },
  {
   "cell_type": "code",
   "execution_count": 217,
   "metadata": {},
   "outputs": [
    {
     "data": {
      "text/plain": [
       "Lasso(alpha=100.0, copy_X=True, fit_intercept=True, max_iter=1000,\n",
       "      normalize=False, positive=False, precompute=False, random_state=None,\n",
       "      selection='cyclic', tol=0.0001, warm_start=False)"
      ]
     },
     "execution_count": 217,
     "metadata": {},
     "output_type": "execute_result"
    }
   ],
   "source": [
    "from sklearn.linear_model import Lasso\n",
    "\n",
    "lasso = Lasso(alpha=100.)\n",
    "lasso.fit(X_train_2, y_train)"
   ]
  },
  {
   "cell_type": "code",
   "execution_count": 218,
   "metadata": {},
   "outputs": [],
   "source": [
    "pred_lasso = lasso.predict(X_test_2)"
   ]
  },
  {
   "cell_type": "code",
   "execution_count": 219,
   "metadata": {
    "scrolled": true
   },
   "outputs": [
    {
     "data": {
      "text/plain": [
       "array([22.51583113, 22.51583113, 22.51583113, 22.51583113, 22.51583113,\n",
       "       22.51583113, 22.51583113, 22.51583113, 22.51583113, 22.51583113,\n",
       "       22.51583113, 22.51583113, 22.51583113, 22.51583113, 22.51583113,\n",
       "       22.51583113, 22.51583113, 22.51583113, 22.51583113, 22.51583113,\n",
       "       22.51583113, 22.51583113, 22.51583113, 22.51583113, 22.51583113,\n",
       "       22.51583113, 22.51583113, 22.51583113, 22.51583113, 22.51583113,\n",
       "       22.51583113, 22.51583113, 22.51583113, 22.51583113, 22.51583113,\n",
       "       22.51583113, 22.51583113, 22.51583113, 22.51583113, 22.51583113,\n",
       "       22.51583113, 22.51583113, 22.51583113, 22.51583113, 22.51583113,\n",
       "       22.51583113, 22.51583113, 22.51583113, 22.51583113, 22.51583113,\n",
       "       22.51583113, 22.51583113, 22.51583113, 22.51583113, 22.51583113,\n",
       "       22.51583113, 22.51583113, 22.51583113, 22.51583113, 22.51583113,\n",
       "       22.51583113, 22.51583113, 22.51583113, 22.51583113, 22.51583113,\n",
       "       22.51583113, 22.51583113, 22.51583113, 22.51583113, 22.51583113,\n",
       "       22.51583113, 22.51583113, 22.51583113, 22.51583113, 22.51583113,\n",
       "       22.51583113, 22.51583113, 22.51583113, 22.51583113, 22.51583113,\n",
       "       22.51583113, 22.51583113, 22.51583113, 22.51583113, 22.51583113,\n",
       "       22.51583113, 22.51583113, 22.51583113, 22.51583113, 22.51583113,\n",
       "       22.51583113, 22.51583113, 22.51583113, 22.51583113, 22.51583113,\n",
       "       22.51583113, 22.51583113, 22.51583113, 22.51583113, 22.51583113,\n",
       "       22.51583113, 22.51583113, 22.51583113, 22.51583113, 22.51583113,\n",
       "       22.51583113, 22.51583113, 22.51583113, 22.51583113, 22.51583113,\n",
       "       22.51583113, 22.51583113, 22.51583113, 22.51583113, 22.51583113,\n",
       "       22.51583113, 22.51583113, 22.51583113, 22.51583113, 22.51583113,\n",
       "       22.51583113, 22.51583113, 22.51583113, 22.51583113, 22.51583113,\n",
       "       22.51583113, 22.51583113])"
      ]
     },
     "execution_count": 219,
     "metadata": {},
     "output_type": "execute_result"
    }
   ],
   "source": [
    "pred_lasso"
   ]
  },
  {
   "cell_type": "code",
   "execution_count": 220,
   "metadata": {
    "scrolled": true
   },
   "outputs": [
    {
     "name": "stdout",
     "output_type": "stream",
     "text": [
      "R2 score random forest lasso train = 0.0\n",
      "R2 score random forest lasso = -5.638066567681399e-05\n"
     ]
    }
   ],
   "source": [
    "print(\"R2 score random forest lasso train = {}\".format(r2_score(y_train, lasso.predict(X_train_2))))\n",
    "print(\"R2 score random forest lasso = {}\".format(r2_score(y_test, pred_lasso)))"
   ]
  },
  {
   "cell_type": "code",
   "execution_count": 221,
   "metadata": {},
   "outputs": [
    {
     "data": {
      "image/png": "[encoded data removed]",
      "text/plain": [
       "<Figure size 864x288 with 1 Axes>"
      ]
     },
     "metadata": {
      "needs_background": "light"
     },
     "output_type": "display_data"
    }
   ],
   "source": [
    "import matplotlib.pyplot as plt\n",
    "fig, ax = plt.subplots(1, 1, figsize=(12, 4))\n",
    "ax.bar(np.arange(0, len(lasso.coef_)), lasso.coef_)\n",
    "ax.set_title(\"Coefficients pour chaque arbre calculés avec une régression linéaire\");"
   ]
  },
  {
   "cell_type": "markdown",
   "metadata": {},
   "source": [
    "## Q5 : Tracer l'évolution de la performance et du nombre d'arbres en fonction de alpha"
   ]
  },
  {
   "cell_type": "code",
   "execution_count": 230,
   "metadata": {},
   "outputs": [],
   "source": [
    "alphas_array = 10 ** np.linspace(-2, 1, 100)"
   ]
  },
  {
   "cell_type": "code",
   "execution_count": 231,
   "metadata": {
    "scrolled": false
   },
   "outputs": [
    {
     "data": {
      "text/plain": [
       "array([ 0.01      ,  0.01072267,  0.01149757,  0.01232847,  0.01321941,\n",
       "        0.01417474,  0.01519911,  0.01629751,  0.01747528,  0.01873817,\n",
       "        0.02009233,  0.02154435,  0.0231013 ,  0.02477076,  0.02656088,\n",
       "        0.02848036,  0.03053856,  0.03274549,  0.03511192,  0.03764936,\n",
       "        0.04037017,  0.04328761,  0.04641589,  0.04977024,  0.05336699,\n",
       "        0.05722368,  0.06135907,  0.06579332,  0.07054802,  0.07564633,\n",
       "        0.08111308,  0.0869749 ,  0.09326033,  0.1       ,  0.10722672,\n",
       "        0.1149757 ,  0.12328467,  0.13219411,  0.14174742,  0.15199111,\n",
       "        0.16297508,  0.17475284,  0.18738174,  0.2009233 ,  0.21544347,\n",
       "        0.23101297,  0.24770764,  0.26560878,  0.28480359,  0.30538555,\n",
       "        0.32745492,  0.35111917,  0.37649358,  0.40370173,  0.43287613,\n",
       "        0.46415888,  0.49770236,  0.53366992,  0.57223677,  0.61359073,\n",
       "        0.65793322,  0.70548023,  0.75646333,  0.81113083,  0.869749  ,\n",
       "        0.93260335,  1.        ,  1.07226722,  1.149757  ,  1.23284674,\n",
       "        1.32194115,  1.41747416,  1.51991108,  1.62975083,  1.7475284 ,\n",
       "        1.87381742,  2.009233  ,  2.15443469,  2.3101297 ,  2.47707636,\n",
       "        2.65608778,  2.84803587,  3.05385551,  3.27454916,  3.51119173,\n",
       "        3.76493581,  4.03701726,  4.32876128,  4.64158883,  4.97702356,\n",
       "        5.33669923,  5.72236766,  6.13590727,  6.57933225,  7.05480231,\n",
       "        7.56463328,  8.11130831,  8.69749003,  9.32603347, 10.        ])"
      ]
     },
     "execution_count": 231,
     "metadata": {},
     "output_type": "execute_result"
    }
   ],
   "source": [
    "alphas_array"
   ]
  },
  {
   "cell_type": "code",
   "execution_count": null,
   "metadata": {},
   "outputs": [],
   "source": []
  },
  {
   "cell_type": "code",
   "execution_count": 246,
   "metadata": {
    "scrolled": false
   },
   "outputs": [
    {
     "name": "stderr",
     "output_type": "stream",
     "text": [
      "100%|███████████████████████████████████████████████████████████████████████████████| 100/100 [00:00<00:00, 120.81it/s]\n"
     ]
    },
    {
     "data": {
      "image/png": "[encoded data removed]",
      "text/plain": [
       "<Figure size 432x288 with 1 Axes>"
      ]
     },
     "metadata": {
      "needs_background": "light"
     },
     "output_type": "display_data"
    },
    {
     "data": {
      "image/png": "[encoded data removed]",
      "text/plain": [
       "<Figure size 432x288 with 1 Axes>"
      ]
     },
     "metadata": {
      "needs_background": "light"
     },
     "output_type": "display_data"
    }
   ],
   "source": [
    "from tqdm import tqdm\n",
    "\n",
    "r2_list= []\n",
    "arbres_non_nuls = []\n",
    "\n",
    "for alpha_test in tqdm(alphas_array):\n",
    "    \n",
    "    lasso = Lasso(alpha=alpha_test, max_iter = 10000)\n",
    "    \n",
    "    lasso.fit(X_train_2, y_train)\n",
    "    \n",
    "    r2_list.append(r2_score(y_test, lasso.predict(X_test_2)))\n",
    "    arbres_non_nuls.append((np.abs(lasso.coef_) > 0).sum())\n",
    "\n",
    "plt.plot(alphas_array, r2_list)\n",
    "plt.title(\"R2 en fonction de alpha\")\n",
    "plt.show()\n",
    "\n",
    "plt.plot(alphas_array, arbres_non_nuls)\n",
    "plt.title(\"Nombre d'arbres non nuls en fonction de alpha\")\n",
    "plt.show()\n"
   ]
  },
  {
   "cell_type": "code",
   "execution_count": 237,
   "metadata": {},
   "outputs": [
    {
     "data": {
      "image/png": "[encoded data removed]",
      "text/plain": [
       "<Figure size 432x288 with 1 Axes>"
      ]
     },
     "metadata": {
      "needs_background": "light"
     },
     "output_type": "display_data"
    }
   ],
   "source": [
    "plt.plot(alphas_array, r2_list)\n",
    "plt.xscale('log')\n",
    "plt.show()"
   ]
  },
  {
   "cell_type": "code",
   "execution_count": 239,
   "metadata": {},
   "outputs": [
    {
     "data": {
      "text/plain": [
       "12"
      ]
     },
     "execution_count": 239,
     "metadata": {},
     "output_type": "execute_result"
    }
   ],
   "source": []
  },
  {
   "cell_type": "code",
   "execution_count": null,
   "metadata": {},
   "outputs": [],
   "source": []
  }
 ],
 "metadata": {
  "kernelspec": {
   "display_name": "Python 3",
   "language": "python",
   "name": "python3"
  },
  "language_info": {
   "codemirror_mode": {
    "name": "ipython",
    "version": 3
   },
   "file_extension": ".py",
   "mimetype": "text/x-python",
   "name": "python",
   "nbconvert_exporter": "python",
   "pygments_lexer": "ipython3",
   "version": "3.7.1"
  }
 },
 "nbformat": 4,
 "nbformat_minor": 2
}
